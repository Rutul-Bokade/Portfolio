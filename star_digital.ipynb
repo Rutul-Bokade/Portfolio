{
  "nbformat": 4,
  "nbformat_minor": 0,
  "metadata": {
    "colab": {
      "provenance": []
    },
    "kernelspec": {
      "name": "ir",
      "display_name": "R"
    },
    "language_info": {
      "name": "R"
    }
  },
  "cells": [
    {
      "cell_type": "code",
      "source": [
        "install.packages(\"readxl\")\n",
        "library(readxl)\n",
        "df <- read_excel(\"/star digital.xls\")\n",
        "str(df)\n",
        "head(df)\n",
        "\n",
        "data_csv <- read.csv(\"/star_digital.csv\")\n",
        "head(data_csv)"
      ],
      "metadata": {
        "colab": {
          "base_uri": "https://localhost:8080/",
          "height": 780
        },
        "id": "k0VAYKw1KcWI",
        "outputId": "10d1dfd4-b31e-4f88-d8fe-325101fb2eef"
      },
      "execution_count": 7,
      "outputs": [
        {
          "output_type": "stream",
          "name": "stderr",
          "text": [
            "Installing package into ‘/usr/local/lib/R/site-library’\n",
            "(as ‘lib’ is unspecified)\n",
            "\n"
          ]
        },
        {
          "output_type": "stream",
          "name": "stdout",
          "text": [
            "tibble [25,303 × 9] (S3: tbl_df/tbl/data.frame)\n",
            " $ id      : num [1:25303] 545716 893524 1372718 971359 59999 ...\n",
            " $ purchase: num [1:25303] 1 1 1 1 1 1 0 0 1 0 ...\n",
            " $ test    : num [1:25303] 1 1 1 1 1 0 1 0 1 1 ...\n",
            " $ imp_1   : num [1:25303] 0 1 0 14 0 0 2 0 97 0 ...\n",
            " $ imp_2   : num [1:25303] 1 0 0 37 0 1 272 0 214 0 ...\n",
            " $ imp_3   : num [1:25303] 0 0 0 1 0 0 0 0 0 0 ...\n",
            " $ imp_4   : num [1:25303] 0 17 10 7 13 0 18 0 11 0 ...\n",
            " $ imp_5   : num [1:25303] 0 0 0 0 0 0 0 0 3 0 ...\n",
            " $ imp_6   : num [1:25303] 0 1 0 7 0 0 2 1 13 2 ...\n"
          ]
        },
        {
          "output_type": "display_data",
          "data": {
            "text/html": [
              "<table class=\"dataframe\">\n",
              "<caption>A tibble: 6 × 9</caption>\n",
              "<thead>\n",
              "\t<tr><th scope=col>id</th><th scope=col>purchase</th><th scope=col>test</th><th scope=col>imp_1</th><th scope=col>imp_2</th><th scope=col>imp_3</th><th scope=col>imp_4</th><th scope=col>imp_5</th><th scope=col>imp_6</th></tr>\n",
              "\t<tr><th scope=col>&lt;dbl&gt;</th><th scope=col>&lt;dbl&gt;</th><th scope=col>&lt;dbl&gt;</th><th scope=col>&lt;dbl&gt;</th><th scope=col>&lt;dbl&gt;</th><th scope=col>&lt;dbl&gt;</th><th scope=col>&lt;dbl&gt;</th><th scope=col>&lt;dbl&gt;</th><th scope=col>&lt;dbl&gt;</th></tr>\n",
              "</thead>\n",
              "<tbody>\n",
              "\t<tr><td> 545716</td><td>1</td><td>1</td><td> 0</td><td> 1</td><td>0</td><td> 0</td><td>0</td><td>0</td></tr>\n",
              "\t<tr><td> 893524</td><td>1</td><td>1</td><td> 1</td><td> 0</td><td>0</td><td>17</td><td>0</td><td>1</td></tr>\n",
              "\t<tr><td>1372718</td><td>1</td><td>1</td><td> 0</td><td> 0</td><td>0</td><td>10</td><td>0</td><td>0</td></tr>\n",
              "\t<tr><td> 971359</td><td>1</td><td>1</td><td>14</td><td>37</td><td>1</td><td> 7</td><td>0</td><td>7</td></tr>\n",
              "\t<tr><td>  59999</td><td>1</td><td>1</td><td> 0</td><td> 0</td><td>0</td><td>13</td><td>0</td><td>0</td></tr>\n",
              "\t<tr><td> 842034</td><td>1</td><td>0</td><td> 0</td><td> 1</td><td>0</td><td> 0</td><td>0</td><td>0</td></tr>\n",
              "</tbody>\n",
              "</table>\n"
            ],
            "text/markdown": "\nA tibble: 6 × 9\n\n| id &lt;dbl&gt; | purchase &lt;dbl&gt; | test &lt;dbl&gt; | imp_1 &lt;dbl&gt; | imp_2 &lt;dbl&gt; | imp_3 &lt;dbl&gt; | imp_4 &lt;dbl&gt; | imp_5 &lt;dbl&gt; | imp_6 &lt;dbl&gt; |\n|---|---|---|---|---|---|---|---|---|\n|  545716 | 1 | 1 |  0 |  1 | 0 |  0 | 0 | 0 |\n|  893524 | 1 | 1 |  1 |  0 | 0 | 17 | 0 | 1 |\n| 1372718 | 1 | 1 |  0 |  0 | 0 | 10 | 0 | 0 |\n|  971359 | 1 | 1 | 14 | 37 | 1 |  7 | 0 | 7 |\n|   59999 | 1 | 1 |  0 |  0 | 0 | 13 | 0 | 0 |\n|  842034 | 1 | 0 |  0 |  1 | 0 |  0 | 0 | 0 |\n\n",
            "text/latex": "A tibble: 6 × 9\n\\begin{tabular}{lllllllll}\n id & purchase & test & imp\\_1 & imp\\_2 & imp\\_3 & imp\\_4 & imp\\_5 & imp\\_6\\\\\n <dbl> & <dbl> & <dbl> & <dbl> & <dbl> & <dbl> & <dbl> & <dbl> & <dbl>\\\\\n\\hline\n\t  545716 & 1 & 1 &  0 &  1 & 0 &  0 & 0 & 0\\\\\n\t  893524 & 1 & 1 &  1 &  0 & 0 & 17 & 0 & 1\\\\\n\t 1372718 & 1 & 1 &  0 &  0 & 0 & 10 & 0 & 0\\\\\n\t  971359 & 1 & 1 & 14 & 37 & 1 &  7 & 0 & 7\\\\\n\t   59999 & 1 & 1 &  0 &  0 & 0 & 13 & 0 & 0\\\\\n\t  842034 & 1 & 0 &  0 &  1 & 0 &  0 & 0 & 0\\\\\n\\end{tabular}\n",
            "text/plain": [
              "  id      purchase test imp_1 imp_2 imp_3 imp_4 imp_5 imp_6\n",
              "1  545716 1        1     0     1    0      0    0     0    \n",
              "2  893524 1        1     1     0    0     17    0     1    \n",
              "3 1372718 1        1     0     0    0     10    0     0    \n",
              "4  971359 1        1    14    37    1      7    0     7    \n",
              "5   59999 1        1     0     0    0     13    0     0    \n",
              "6  842034 1        0     0     1    0      0    0     0    "
            ]
          },
          "metadata": {}
        },
        {
          "output_type": "display_data",
          "data": {
            "text/html": [
              "<table class=\"dataframe\">\n",
              "<caption>A data.frame: 6 × 9</caption>\n",
              "<thead>\n",
              "\t<tr><th></th><th scope=col>id</th><th scope=col>purchase</th><th scope=col>test</th><th scope=col>imp_1</th><th scope=col>imp_2</th><th scope=col>imp_3</th><th scope=col>imp_4</th><th scope=col>imp_5</th><th scope=col>imp_6</th></tr>\n",
              "\t<tr><th></th><th scope=col>&lt;int&gt;</th><th scope=col>&lt;int&gt;</th><th scope=col>&lt;int&gt;</th><th scope=col>&lt;int&gt;</th><th scope=col>&lt;int&gt;</th><th scope=col>&lt;int&gt;</th><th scope=col>&lt;int&gt;</th><th scope=col>&lt;int&gt;</th><th scope=col>&lt;int&gt;</th></tr>\n",
              "</thead>\n",
              "<tbody>\n",
              "\t<tr><th scope=row>1</th><td> 545716</td><td>1</td><td>1</td><td> 0</td><td> 1</td><td>0</td><td> 0</td><td>0</td><td>0</td></tr>\n",
              "\t<tr><th scope=row>2</th><td> 893524</td><td>1</td><td>1</td><td> 1</td><td> 0</td><td>0</td><td>17</td><td>0</td><td>1</td></tr>\n",
              "\t<tr><th scope=row>3</th><td>1372718</td><td>1</td><td>1</td><td> 0</td><td> 0</td><td>0</td><td>10</td><td>0</td><td>0</td></tr>\n",
              "\t<tr><th scope=row>4</th><td> 971359</td><td>1</td><td>1</td><td>14</td><td>37</td><td>1</td><td> 7</td><td>0</td><td>7</td></tr>\n",
              "\t<tr><th scope=row>5</th><td>  59999</td><td>1</td><td>1</td><td> 0</td><td> 0</td><td>0</td><td>13</td><td>0</td><td>0</td></tr>\n",
              "\t<tr><th scope=row>6</th><td> 842034</td><td>1</td><td>0</td><td> 0</td><td> 1</td><td>0</td><td> 0</td><td>0</td><td>0</td></tr>\n",
              "</tbody>\n",
              "</table>\n"
            ],
            "text/markdown": "\nA data.frame: 6 × 9\n\n| <!--/--> | id &lt;int&gt; | purchase &lt;int&gt; | test &lt;int&gt; | imp_1 &lt;int&gt; | imp_2 &lt;int&gt; | imp_3 &lt;int&gt; | imp_4 &lt;int&gt; | imp_5 &lt;int&gt; | imp_6 &lt;int&gt; |\n|---|---|---|---|---|---|---|---|---|---|\n| 1 |  545716 | 1 | 1 |  0 |  1 | 0 |  0 | 0 | 0 |\n| 2 |  893524 | 1 | 1 |  1 |  0 | 0 | 17 | 0 | 1 |\n| 3 | 1372718 | 1 | 1 |  0 |  0 | 0 | 10 | 0 | 0 |\n| 4 |  971359 | 1 | 1 | 14 | 37 | 1 |  7 | 0 | 7 |\n| 5 |   59999 | 1 | 1 |  0 |  0 | 0 | 13 | 0 | 0 |\n| 6 |  842034 | 1 | 0 |  0 |  1 | 0 |  0 | 0 | 0 |\n\n",
            "text/latex": "A data.frame: 6 × 9\n\\begin{tabular}{r|lllllllll}\n  & id & purchase & test & imp\\_1 & imp\\_2 & imp\\_3 & imp\\_4 & imp\\_5 & imp\\_6\\\\\n  & <int> & <int> & <int> & <int> & <int> & <int> & <int> & <int> & <int>\\\\\n\\hline\n\t1 &  545716 & 1 & 1 &  0 &  1 & 0 &  0 & 0 & 0\\\\\n\t2 &  893524 & 1 & 1 &  1 &  0 & 0 & 17 & 0 & 1\\\\\n\t3 & 1372718 & 1 & 1 &  0 &  0 & 0 & 10 & 0 & 0\\\\\n\t4 &  971359 & 1 & 1 & 14 & 37 & 1 &  7 & 0 & 7\\\\\n\t5 &   59999 & 1 & 1 &  0 &  0 & 0 & 13 & 0 & 0\\\\\n\t6 &  842034 & 1 & 0 &  0 &  1 & 0 &  0 & 0 & 0\\\\\n\\end{tabular}\n",
            "text/plain": [
              "  id      purchase test imp_1 imp_2 imp_3 imp_4 imp_5 imp_6\n",
              "1  545716 1        1     0     1    0      0    0     0    \n",
              "2  893524 1        1     1     0    0     17    0     1    \n",
              "3 1372718 1        1     0     0    0     10    0     0    \n",
              "4  971359 1        1    14    37    1      7    0     7    \n",
              "5   59999 1        1     0     0    0     13    0     0    \n",
              "6  842034 1        0     0     1    0      0    0     0    "
            ]
          },
          "metadata": {}
        }
      ]
    },
    {
      "cell_type": "code",
      "source": [
        "#1. Is online advertising effective for Star Digital? In other words, is there a difference in conversion rate between the treatment and control groups?\n",
        "library(dplyr)\n",
        "\n",
        "logit_model <- glm(purchase ~ test, data = df, family = binomial)\n",
        "\n",
        "summary(logit_model)"
      ],
      "metadata": {
        "colab": {
          "base_uri": "https://localhost:8080/",
          "height": 329
        },
        "id": "Yye6Q4DvNR2Q",
        "outputId": "b98b61ac-94a9-4277-80c7-ae0924897750"
      },
      "execution_count": 14,
      "outputs": [
        {
          "output_type": "display_data",
          "data": {
            "text/plain": [
              "\n",
              "Call:\n",
              "glm(formula = purchase ~ test, family = binomial, data = df)\n",
              "\n",
              "Coefficients:\n",
              "            Estimate Std. Error z value Pr(>|z|)  \n",
              "(Intercept) -0.05724    0.03882  -1.474   0.1404  \n",
              "test         0.07676    0.04104   1.871   0.0614 .\n",
              "---\n",
              "Signif. codes:  0 ‘***’ 0.001 ‘**’ 0.01 ‘*’ 0.05 ‘.’ 0.1 ‘ ’ 1\n",
              "\n",
              "(Dispersion parameter for binomial family taken to be 1)\n",
              "\n",
              "    Null deviance: 35077  on 25302  degrees of freedom\n",
              "Residual deviance: 35073  on 25301  degrees of freedom\n",
              "AIC: 35077\n",
              "\n",
              "Number of Fisher Scoring iterations: 3\n"
            ]
          },
          "metadata": {}
        }
      ]
    },
    {
      "cell_type": "markdown",
      "source": [
        "The online advertising is not effective for Star Digital, since the p-value > 0.05 (p-value=0.0614), the null hypothesis cannot be rejected, which means there is no statistically significant evidence whether advertising can increase purchase rates. The impact of advertising on purchases may be due to random factors. Although the regression coefficients indicate that the ad group has a higher probability of purchase, this difference may be due to random fluctuations and is not statistically significant."
      ],
      "metadata": {
        "id": "vSVdzA9hPTG5"
      }
    },
    {
      "cell_type": "code",
      "source": [
        "# 2. Is there a frequency effect of advertising on purchase? In particular, the question is whether increasing the frequency of advertising (number of impressions) increases the probability of purchase?\n",
        "\n",
        "df$total_impressions <- rowSums(df[, c(\"imp_1\", \"imp_2\", \"imp_3\", \"imp_4\", \"imp_5\", \"imp_6\")])\n",
        "\n",
        "logit_freq_model <- glm(purchase ~ total_impressions + test, data = df, family = binomial)\n",
        "\n",
        "summary(logit_freq_model)\n"
      ],
      "metadata": {
        "colab": {
          "base_uri": "https://localhost:8080/",
          "height": 364
        },
        "id": "XQcfD-cKJTtn",
        "outputId": "520d4015-633d-4b13-c070-f0ea54cfc35a"
      },
      "execution_count": 20,
      "outputs": [
        {
          "output_type": "display_data",
          "data": {
            "text/plain": [
              "\n",
              "Call:\n",
              "glm(formula = purchase ~ total_impressions + test, family = binomial, \n",
              "    data = df)\n",
              "\n",
              "Coefficients:\n",
              "                   Estimate Std. Error z value Pr(>|z|)    \n",
              "(Intercept)       -0.244063   0.040023  -6.098 1.07e-09 ***\n",
              "total_impressions  0.029180   0.001294  22.551  < 2e-16 ***\n",
              "test               0.072376   0.041697   1.736   0.0826 .  \n",
              "---\n",
              "Signif. codes:  0 ‘***’ 0.001 ‘**’ 0.01 ‘*’ 0.05 ‘.’ 0.1 ‘ ’ 1\n",
              "\n",
              "(Dispersion parameter for binomial family taken to be 1)\n",
              "\n",
              "    Null deviance: 35077  on 25302  degrees of freedom\n",
              "Residual deviance: 34209  on 25300  degrees of freedom\n",
              "AIC: 34215\n",
              "\n",
              "Number of Fisher Scoring iterations: 5\n"
            ]
          },
          "metadata": {}
        }
      ]
    },
    {
      "cell_type": "markdown",
      "source": [
        "The number of ad impressions has a significant impact on purchases: the the coefficient of total_impressions is positive and the p-value is very small, indicating that the more times an ad is shown, the more likely a user is to purchase.\n",
        "The effect of the ad group on purchases is marginally significant: the the p-value for the test variable is close to 0.1, which suggests that a difference between the ad group and the control group may exist, but there is not enough evidence that the effect of the ad group is more significant than the control group."
      ],
      "metadata": {
        "id": "_HPkA5ZZaRol"
      }
    },
    {
      "cell_type": "code",
      "source": [
        "# 3. How does the conversion effectiveness of Sites 1-5 compare with that of Site 6?\n",
        "\n",
        "df$site_group <- ifelse(df$test == 1, \"Sites_1_5\", \"Site_6\") # Changed 'data' to 'df'\n",
        "\n",
        "logit_site_model <- glm(purchase ~ site_group + total_impressions, data = df, family = binomial) # Changed 'data' to 'df'\n",
        "\n",
        "summary(logit_site_model)"
      ],
      "metadata": {
        "colab": {
          "base_uri": "https://localhost:8080/",
          "height": 364
        },
        "id": "s4KRU1SIe7Xk",
        "outputId": "4f032b72-32b5-4953-d088-682b233fc336"
      },
      "execution_count": 24,
      "outputs": [
        {
          "output_type": "display_data",
          "data": {
            "text/plain": [
              "\n",
              "Call:\n",
              "glm(formula = purchase ~ site_group + total_impressions, family = binomial, \n",
              "    data = df)\n",
              "\n",
              "Coefficients:\n",
              "                     Estimate Std. Error z value Pr(>|z|)    \n",
              "(Intercept)         -0.244063   0.040023  -6.098 1.07e-09 ***\n",
              "site_groupSites_1_5  0.072376   0.041697   1.736   0.0826 .  \n",
              "total_impressions    0.029180   0.001294  22.551  < 2e-16 ***\n",
              "---\n",
              "Signif. codes:  0 ‘***’ 0.001 ‘**’ 0.01 ‘*’ 0.05 ‘.’ 0.1 ‘ ’ 1\n",
              "\n",
              "(Dispersion parameter for binomial family taken to be 1)\n",
              "\n",
              "    Null deviance: 35077  on 25302  degrees of freedom\n",
              "Residual deviance: 34209  on 25300  degrees of freedom\n",
              "AIC: 34215\n",
              "\n",
              "Number of Fisher Scoring iterations: 5\n"
            ]
          },
          "metadata": {}
        }
      ]
    },
    {
      "cell_type": "markdown",
      "source": [
        "Number of ad impressions significantly affects purchase: total_impressions has a significant impact on purchase, with each additional ad impression increasing the log odds of purchase.\n",
        "The effect of site grouping is marginally significant: site_group's effect on purchases approaches significance at the 0.1 level, but does not quite reach the standard significance level of 0.05. Although Sites_1_5 has a slight increase in the log odds of purchase compared to Sites_6, the difference is not strong."
      ],
      "metadata": {
        "id": "y94rrRcfgYi9"
      }
    },
    {
      "cell_type": "code",
      "source": [
        "# 4. Optional Challenge Question -- Which sites should Star Digital advertise on? In particular, should it put its advertising dollars in Site 6 or in Sites 1 through 5?\n",
        "summary(logit_site_model)"
      ],
      "metadata": {
        "colab": {
          "base_uri": "https://localhost:8080/",
          "height": 364
        },
        "id": "l-EUEL8Sf6wC",
        "outputId": "38495d9a-1795-41d8-eaf8-f55e44f73ba3"
      },
      "execution_count": 25,
      "outputs": [
        {
          "output_type": "display_data",
          "data": {
            "text/plain": [
              "\n",
              "Call:\n",
              "glm(formula = purchase ~ site_group + total_impressions, family = binomial, \n",
              "    data = df)\n",
              "\n",
              "Coefficients:\n",
              "                     Estimate Std. Error z value Pr(>|z|)    \n",
              "(Intercept)         -0.244063   0.040023  -6.098 1.07e-09 ***\n",
              "site_groupSites_1_5  0.072376   0.041697   1.736   0.0826 .  \n",
              "total_impressions    0.029180   0.001294  22.551  < 2e-16 ***\n",
              "---\n",
              "Signif. codes:  0 ‘***’ 0.001 ‘**’ 0.01 ‘*’ 0.05 ‘.’ 0.1 ‘ ’ 1\n",
              "\n",
              "(Dispersion parameter for binomial family taken to be 1)\n",
              "\n",
              "    Null deviance: 35077  on 25302  degrees of freedom\n",
              "Residual deviance: 34209  on 25300  degrees of freedom\n",
              "AIC: 34215\n",
              "\n",
              "Number of Fisher Scoring iterations: 5\n"
            ]
          },
          "metadata": {}
        }
      ]
    },
    {
      "cell_type": "markdown",
      "source": [
        "According to the model results: Advertising strategy: From the regression analysis, although the impact of sites 1-5 is slightly advantageous compared to site 6, you can consider investing more advertising budget in sites 1-5 because the ad conversion rate of these sites is slightly higher than that of site 6.\n",
        "The impact of ad impressions: No matter which site it is placed on, increasing the number of ad impressions will significantly increase the chance of purchase, so increasing the frequency of ad display is very important to improve conversion rates.\n",
        "Recommendation: Prioritize advertising on Sites 1-5, but also consider whether Site 6 has a specific target user or market.\n",
        "Increase the number of ad impressions, whether you choose Sites 1-5 or Site 6, more ad impressions can effectively increase conversion rates."
      ],
      "metadata": {
        "id": "OdMz-5fXhANA"
      }
    }
  ]
}